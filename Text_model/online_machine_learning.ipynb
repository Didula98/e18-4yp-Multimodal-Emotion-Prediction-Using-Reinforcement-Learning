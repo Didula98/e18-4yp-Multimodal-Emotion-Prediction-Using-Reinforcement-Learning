{
  "cells": [
    {
      "cell_type": "markdown",
      "metadata": {
        "id": "view-in-github",
        "colab_type": "text"
      },
      "source": [
        "<a href=\"https://colab.research.google.com/github/PiyumaliSandunika/e18-4yp-Multimodal-Emotion-Prediction-Using-Reinforcement-Learning/blob/main/online_machine_learning.ipynb\" target=\"_parent\"><img src=\"https://colab.research.google.com/assets/colab-badge.svg\" alt=\"Open In Colab\"/></a>"
      ]
    },
    {
      "cell_type": "code",
      "source": [
        "from google.colab import drive\n",
        "drive.mount('/content/drive')"
      ],
      "metadata": {
        "colab": {
          "base_uri": "https://localhost:8080/"
        },
        "id": "ngUoASVOn2AK",
        "outputId": "3a13976c-e107-465b-d928-72cd61890650"
      },
      "execution_count": null,
      "outputs": [
        {
          "output_type": "stream",
          "name": "stdout",
          "text": [
            "Drive already mounted at /content/drive; to attempt to forcibly remount, call drive.mount(\"/content/drive\", force_remount=True).\n"
          ]
        }
      ]
    },
    {
      "cell_type": "markdown",
      "source": [
        "** Model Loading**"
      ],
      "metadata": {
        "id": "eo9D1oTAec2b"
      }
    },
    {
      "cell_type": "code",
      "execution_count": null,
      "metadata": {
        "id": "SZe1gEDC_2LT"
      },
      "outputs": [],
      "source": [
        "from transformers import DistilBertForSequenceClassification, DistilBertTokenizer\n",
        "import torch\n",
        "\n",
        "# Load the saved model\n",
        "model_path = \"/content/drive/MyDrive/FYP_Text/\"\n",
        "loaded_model = DistilBertForSequenceClassification.from_pretrained(model_path)\n",
        "tokenizer = DistilBertTokenizer.from_pretrained('distilbert-base-uncased')\n"
      ]
    },
    {
      "cell_type": "code",
      "source": [
        "def predict_emotion_with_probabilities(sentence, model, tokenizer):\n",
        "    # Tokenize the input sentence\n",
        "    inputs = tokenizer(sentence, return_tensors=\"pt\")\n",
        "\n",
        "    # Perform inference\n",
        "    outputs = model(**inputs)\n",
        "    logits = outputs.logits\n",
        "\n",
        "    # Apply softmax to get probabilities\n",
        "    probabilities = torch.nn.functional.softmax(logits, dim=1)\n",
        "\n",
        "    # Convert probabilities tensor to list\n",
        "    probabilities_list = probabilities.squeeze().tolist()\n",
        "\n",
        "    # Map predicted label to emotion\n",
        "    emotion_labels = [\"happiness\", \"sadness\", \"anger\", \"neutral\"]\n",
        "    predicted_emotion = emotion_labels[torch.argmax(logits, dim=1).item()]\n",
        "\n",
        "    return probabilities_list, predicted_emotion\n"
      ],
      "metadata": {
        "id": "eKPDJ9OMiDsc"
      },
      "execution_count": null,
      "outputs": []
    },
    {
      "cell_type": "code",
      "source": [
        "\n",
        "# Example sentences for prediction\n",
        "sentences = [\n",
        "    # \"I am a broken-hearted\",\n",
        "    # \"I am emotionaly damaged right now\",\n",
        "    # \"Do what makes feel you better\",\n",
        "    # \"I feel nervous\",\n",
        "    # \"I am a student\",\n",
        "    # \"You're stupid and it makes me anger\",\n",
        "    # \"Go to hell\",\n",
        "    # \"You are the worst,I do not want to see you\",\n",
        "    # \"I am angry right now\",\n",
        "    # \"You are my sunshine\",\n",
        "    # \"Such a wonderful performance\",\n",
        "    # \"I am lonely\",\n",
        "    # \"This is strange! anyways bravo to myself!\",\n",
        "    # \"Things are getting stranger\",\n",
        "    # \"I lumped my throat\",\n",
        "    # \"Billy, your face is like a wet weekend\",\n",
        "    \"I’m on cloud nine\"\n",
        "]\n",
        "\n",
        "# Perform prediction for each sentence\n",
        "for sentence in sentences:\n",
        "    predicted_emotion = predict_emotion_with_probabilities(sentence,loaded_model,tokenizer)\n",
        "    print(f\"Sentence: '{sentence}'\")\n",
        "    print(f\"Predicted Emotion: {predicted_emotion}\\n\")"
      ],
      "metadata": {
        "colab": {
          "base_uri": "https://localhost:8080/"
        },
        "id": "7NbLBfjVeFtv",
        "outputId": "466a46e6-1a51-454c-8d25-1fad99ba3b07"
      },
      "execution_count": null,
      "outputs": [
        {
          "output_type": "stream",
          "name": "stdout",
          "text": [
            "Sentence: 'I’m on cloud nine'\n",
            "Predicted Emotion: ([2.455699586789706e-06, 2.885532694563153e-06, 1.1664121757348767e-06, 0.9999934434890747], 'neutral')\n",
            "\n"
          ]
        }
      ]
    },
    {
      "cell_type": "code",
      "source": [
        "def active_learning_selection(user_data, model, threshold=0.5):\n",
        "    selected_examples = []\n",
        "    for text, label in user_data:\n",
        "        encoded_input = tokenizer(text, padding=True, truncation=True, return_tensors='pt')\n",
        "        outputs = model(**encoded_input)\n",
        "        probabilities = torch.softmax(outputs.logits, dim=1)\n",
        "        confidence = probabilities.max().item()\n",
        "        if confidence < threshold:\n",
        "            selected_examples.append((text, label))\n",
        "    return selected_examples\n",
        "\n",
        "# Function for online learning update\n",
        "def online_learning_update(new_data, model, optimizer, loss_fn):\n",
        "    for text, label in new_data:\n",
        "        encoded_input = tokenizer(text, padding=True, truncation=True, return_tensors='pt')\n",
        "        outputs = model(**encoded_input, labels=torch.tensor([label]))\n",
        "        loss = outputs.loss\n",
        "        loss.backward()\n",
        "        optimizer.step()\n",
        "        optimizer.zero_grad()\n",
        "    return model\n",
        "def is_confident(predicted_label, confidence_threshold=0.7):\n",
        "    # Check if the prediction confidence is above the threshold\n",
        "    return confidence_threshold <= torch.softmax(predicted_label, dim=1).max()"
      ],
      "metadata": {
        "id": "lMCsBQpexucp"
      },
      "execution_count": null,
      "outputs": []
    },
    {
      "cell_type": "code",
      "source": [
        "from transformers import DistilBertTokenizer, DistilBertForSequenceClassification\n",
        "import torch\n",
        "\n",
        "# Initialize DistilBERT tokenizer and load the fine-tuned model\n",
        "model_path = \"/content/drive/MyDrive/FYP_Text/\"\n",
        "loaded_model = DistilBertForSequenceClassification.from_pretrained(model_path)\n",
        "tokenizer = DistilBertTokenizer.from_pretrained('distilbert-base-uncased')\n",
        "\n",
        "# Define label mappings\n",
        "label_map = {\n",
        "    0: \"happiness\",\n",
        "    1: \"sadness\",\n",
        "    2: \"anger\",\n",
        "    3: \"neutral\"\n",
        "}\n",
        "\n",
        "# Function for online learning update\n",
        "def online_learning_update(new_data, model, optimizer, loss_fn):\n",
        "    for text, label in new_data:\n",
        "        encoded_input = tokenizer(text, padding=True, truncation=True, return_tensors='pt')\n",
        "        encoded_input['labels'] = torch.tensor([label])\n",
        "        outputs = model(**encoded_input)\n",
        "        loss = outputs.loss\n",
        "        loss.backward()\n",
        "        optimizer.step()\n",
        "        optimizer.zero_grad()\n",
        "    return model\n",
        "\n",
        "# Main loop for user interaction\n",
        "user_data = []\n",
        "\n",
        "optimizer = torch.optim.AdamW(model.parameters(), lr=5e-5)  # Optimizer for online learning\n",
        "loss_fn = torch.nn.CrossEntropyLoss()  # Loss function for online learning\n",
        "\n",
        "while True:\n",
        "    # Receive input from the user\n",
        "    user_input = input(\"Enter text: \")\n",
        "\n",
        "    # Perform inference with the current model\n",
        "    encoded_input = tokenizer(user_input, padding=True, truncation=True, return_tensors='pt')\n",
        "    outputs = model(**encoded_input)\n",
        "    predicted_label = torch.argmax(outputs.logits, dim=1).item()\n",
        "    print(f\"Predicted emotion: {label_map[predicted_label]}\")\n",
        "\n",
        "    # Ask for user feedback\n",
        "    user_label = int(input(\"Enter correct label (happiness:0, sadness:1, anger:2, neutral:3): \"))\n",
        "    user_data.append((user_input, user_label))\n",
        "\n",
        "    # Retrain the model with the new data\n",
        "    model = online_learning_update([(user_input, user_label)], model, optimizer, loss_fn)\n",
        "\n",
        "    # Perform inference with the updated model\n",
        "    outputs = model(**encoded_input)\n",
        "    predicted_label = torch.argmax(outputs.logits, dim=1).item()\n",
        "    print(f\"New predicted emotion: {label_map[predicted_label]}\")\n",
        "\n",
        "    # Prompt the user for more input\n",
        "    more_data = input(\"Do you have more data to provide? (yes/no): \")\n",
        "    if more_data.lower() != \"yes\":\n",
        "        break\n"
      ],
      "metadata": {
        "colab": {
          "base_uri": "https://localhost:8080/"
        },
        "id": "ZEBgipfT6ahZ",
        "outputId": "c0bb769a-ff86-43bf-b3b6-334e5eda78f5"
      },
      "execution_count": null,
      "outputs": [
        {
          "name": "stdout",
          "output_type": "stream",
          "text": [
            "Enter text: I’m on cloud nine\n",
            "Predicted emotion: neutral\n",
            "Enter correct label (happiness:0, sadness:1, anger:2, neutral:3): 0\n",
            "New predicted emotion: happiness\n",
            "Do you have more data to provide? (yes/no): no\n"
          ]
        }
      ]
    },
    {
      "cell_type": "code",
      "source": [
        "# Perform inference with the updated model\n",
        "encoded_input = tokenizer(\"I'm on cloud\", padding=True, truncation=True, return_tensors='pt')\n",
        "outputs = model(**encoded_input)\n",
        "predicted_label = torch.argmax(outputs.logits, dim=1).item()\n",
        "print(f\"New predicted emotion: {label_map[predicted_label]}\")\n"
      ],
      "metadata": {
        "id": "7YO1OITD66LN"
      },
      "execution_count": null,
      "outputs": []
    }
  ],
  "metadata": {
    "accelerator": "GPU",
    "colab": {
      "provenance": [],
      "gpuType": "T4",
      "include_colab_link": true
    },
    "kernelspec": {
      "display_name": "Python 3",
      "name": "python3"
    },
    "language_info": {
      "codemirror_mode": {
        "name": "ipython",
        "version": 3
      },
      "file_extension": ".py",
      "mimetype": "text/x-python",
      "name": "python",
      "nbconvert_exporter": "python",
      "pygments_lexer": "ipython3",
      "version": "3.10.2"
    }
  },
  "nbformat": 4,
  "nbformat_minor": 0
}