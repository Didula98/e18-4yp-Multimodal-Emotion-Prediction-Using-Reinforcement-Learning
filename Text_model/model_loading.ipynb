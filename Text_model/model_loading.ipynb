{
  "cells": [
    {
      "cell_type": "markdown",
      "metadata": {
        "id": "view-in-github",
        "colab_type": "text"
      },
      "source": [
        "<a href=\"https://colab.research.google.com/github/PiyumaliSandunika/e18-4yp-Multimodal-Emotion-Prediction-Using-Reinforcement-Learning/blob/main/Text_model/model_loading.ipynb\" target=\"_parent\"><img src=\"https://colab.research.google.com/assets/colab-badge.svg\" alt=\"Open In Colab\"/></a>"
      ]
    },
    {
      "cell_type": "code",
      "execution_count": null,
      "metadata": {
        "id": "Z67MZBeK76Nt"
      },
      "outputs": [],
      "source": [
        "# label_map = {\"happiness\": 0, \"sadness\": 1, \"anger\": 2, \"neutral\": 3}\n"
      ]
    },
    {
      "cell_type": "markdown",
      "source": [
        "** Model Loading**"
      ],
      "metadata": {
        "id": "eo9D1oTAec2b"
      }
    },
    {
      "cell_type": "code",
      "source": [
        "from google.colab import drive\n",
        "drive.mount('/content/drive')"
      ],
      "metadata": {
        "colab": {
          "base_uri": "https://localhost:8080/"
        },
        "id": "HPFIxtrSlad5",
        "outputId": "c68a049c-9109-4eec-ee99-86a369110a68"
      },
      "execution_count": 6,
      "outputs": [
        {
          "output_type": "stream",
          "name": "stdout",
          "text": [
            "Drive already mounted at /content/drive; to attempt to forcibly remount, call drive.mount(\"/content/drive\", force_remount=True).\n"
          ]
        }
      ]
    },
    {
      "cell_type": "code",
      "execution_count": 7,
      "metadata": {
        "id": "SZe1gEDC_2LT"
      },
      "outputs": [],
      "source": [
        "from transformers import DistilBertForSequenceClassification, DistilBertTokenizer\n",
        "import torch\n",
        "import pickle\n",
        "# Load the saved model\n",
        "model_path = \"/content/drive/MyDrive/FYP_Text/\"\n",
        "loaded_model = DistilBertForSequenceClassification.from_pretrained(model_path)\n",
        "# with open(model_path,'rb') as f:\n",
        "#   loaded_model = pickle.load(f)7\n",
        "tokenizer = DistilBertTokenizer.from_pretrained('distilbert-base-uncased')\n"
      ]
    },
    {
      "cell_type": "code",
      "source": [
        "def predict_emotion_with_probabilities(sentence, model, tokenizer):\n",
        "    # Tokenize the input sentence\n",
        "    inputs = tokenizer(sentence, return_tensors=\"pt\")\n",
        "\n",
        "    # Perform inference\n",
        "    outputs = model(**inputs)\n",
        "    logits = outputs.logits\n",
        "\n",
        "    # Apply softmax to get probabilities\n",
        "    probabilities = torch.nn.functional.softmax(logits, dim=1)\n",
        "\n",
        "    # Convert probabilities tensor to list\n",
        "    probabilities_list = probabilities.squeeze().tolist()\n",
        "\n",
        "    # Map predicted label to emotion\n",
        "    emotion_labels = [\"happiness\", \"sadness\", \"anger\", \"neutral\"]\n",
        "    predicted_emotion = emotion_labels[torch.argmax(logits, dim=1).item()]\n",
        "\n",
        "    return probabilities_list, predicted_emotion\n"
      ],
      "metadata": {
        "id": "eKPDJ9OMiDsc"
      },
      "execution_count": 8,
      "outputs": []
    },
    {
      "cell_type": "code",
      "execution_count": 9,
      "metadata": {
        "colab": {
          "base_uri": "https://localhost:8080/"
        },
        "id": "qf_zNcMv_4Rm",
        "outputId": "7af51cfa-7699-4ae7-fff2-9f1214788e77"
      },
      "outputs": [
        {
          "output_type": "stream",
          "name": "stdout",
          "text": [
            "Sentence: 'I love going to the park, it always makes me happy.'\n",
            "Predicted Emotion: [0.9999837875366211, 5.642963969876291e-06, 1.5590197790515958e-06, 9.021799996844493e-06]\n",
            "\n",
            "Predicted Emotion: happiness\n",
            "\n",
            "Sentence: 'The loss of my pet dog left me feeling devastated.'\n",
            "Predicted Emotion: [1.64719983786199e-06, 0.9999943971633911, 1.440905180061236e-06, 2.497115474398015e-06]\n",
            "\n",
            "Predicted Emotion: sadness\n",
            "\n",
            "Sentence: 'I'm afraid of the dark, it gives me chills.'\n",
            "Predicted Emotion: [0.000288836017716676, 0.9967865943908691, 2.2065092707634903e-05, 0.0029024702962487936]\n",
            "\n",
            "Predicted Emotion: sadness\n",
            "\n",
            "Sentence: 'The weather today is quite pleasant.'\n",
            "Predicted Emotion: [0.999868631362915, 3.0084263926255517e-05, 5.069413873570738e-06, 9.616457828087732e-05]\n",
            "\n",
            "Predicted Emotion: happiness\n",
            "\n"
          ]
        }
      ],
      "source": [
        "\n",
        "# Example sentences for prediction\n",
        "sentences = [\n",
        "    \"I love going to the park, it always makes me happy.\",\n",
        "    \"The loss of my pet dog left me feeling devastated.\",\n",
        "    \"I'm afraid of the dark, it gives me chills.\",\n",
        "    \"The weather today is quite pleasant.\"\n",
        "]\n",
        "\n",
        "# Perform prediction for each sentence\n",
        "for sentence in sentences:\n",
        "    probabilities_list, predicted_emotion = predict_emotion_with_probabilities(sentence,loaded_model,tokenizer)\n",
        "    print(f\"Sentence: '{sentence}'\")\n",
        "    print(f\"Predicted Emotion: {probabilities_list}\\n\")\n",
        "    print(f\"Predicted Emotion: {predicted_emotion}\\n\")"
      ]
    },
    {
      "cell_type": "code",
      "execution_count": 10,
      "metadata": {
        "colab": {
          "base_uri": "https://localhost:8080/"
        },
        "id": "KKPsIZh-mvOK",
        "outputId": "e8f60294-ec0e-4072-b3e8-701ae1a37499"
      },
      "outputs": [
        {
          "output_type": "stream",
          "name": "stdout",
          "text": [
            "Sentence: 'I am a broken-hearted'\n",
            "Predicted Emotion: ([1.3916343277742271e-06, 0.9999946355819702, 1.3712996178583126e-06, 2.5530664515827084e-06], 'sadness')\n",
            "\n",
            "Sentence: 'I am emotionaly damaged right now'\n",
            "Predicted Emotion: ([1.243487872670812e-06, 0.9999943971633911, 1.7411358612662298e-06, 2.659719939401839e-06], 'sadness')\n",
            "\n",
            "Sentence: 'Do what makes feel you better'\n",
            "Predicted Emotion: ([3.2355264920624904e-06, 2.1284665763232624e-06, 8.971247211775335e-07, 0.9999936819076538], 'neutral')\n",
            "\n",
            "Sentence: 'I feel nervous'\n",
            "Predicted Emotion: ([1.6046584505602368e-06, 0.9999935626983643, 1.3847605941919028e-06, 3.5073137496510753e-06], 'sadness')\n",
            "\n",
            "Sentence: 'I am a student'\n",
            "Predicted Emotion: ([4.584662747220136e-06, 2.6120403617824195e-06, 2.06212280318141e-06, 0.999990701675415], 'neutral')\n",
            "\n",
            "Sentence: 'You're stupid and it makes me anger'\n",
            "Predicted Emotion: ([1.0935899581454578e-06, 1.532384158053901e-05, 0.9999760389328003, 7.504777840949828e-06], 'anger')\n",
            "\n",
            "Sentence: 'Go to hell'\n",
            "Predicted Emotion: ([9.571759846949135e-07, 6.592080353584606e-06, 0.9999886751174927, 3.8268312891887035e-06], 'anger')\n",
            "\n",
            "Sentence: 'You are the worst,I do not want to see you'\n",
            "Predicted Emotion: ([8.907594747142866e-06, 0.9969800114631653, 0.002985056722536683, 2.5989476853283122e-05], 'sadness')\n",
            "\n",
            "Sentence: 'I am angry right now'\n",
            "Predicted Emotion: ([1.052449078997597e-06, 8.676233846927062e-06, 0.9999841451644897, 6.128676886874018e-06], 'anger')\n",
            "\n",
            "Sentence: 'You are my sunshine'\n",
            "Predicted Emotion: ([0.9999884366989136, 2.9972011361678597e-06, 1.2984806971871876e-06, 7.221335636131698e-06], 'happiness')\n",
            "\n",
            "Sentence: 'Such a wonderful performance'\n",
            "Predicted Emotion: ([0.9999821186065674, 9.094408596865833e-06, 1.932299028339912e-06, 6.896447757753776e-06], 'happiness')\n",
            "\n",
            "Sentence: 'I am lonely'\n",
            "Predicted Emotion: ([1.4174596572047449e-06, 0.9999942779541016, 1.2787155583282583e-06, 2.9883449315093458e-06], 'sadness')\n",
            "\n"
          ]
        }
      ],
      "source": [
        "\n",
        "# Example sentences for prediction\n",
        "sentences = [\n",
        "    \"I am a broken-hearted\",\n",
        "    \"I am emotionaly damaged right now\",\n",
        "    \"Do what makes feel you better\",\n",
        "    \"I feel nervous\",\n",
        "    \"I am a student\",\n",
        "    \"You're stupid and it makes me anger\",\n",
        "    \"Go to hell\",\n",
        "    \"You are the worst,I do not want to see you\",\n",
        "    \"I am angry right now\",\n",
        "    \"You are my sunshine\",\n",
        "    \"Such a wonderful performance\",\n",
        "    \"I am lonely\"\n",
        "]\n",
        "\n",
        "# Perform prediction for each sentence\n",
        "for sentence in sentences:\n",
        "    predicted_emotion = predict_emotion_with_probabilities(sentence,loaded_model,tokenizer)\n",
        "    print(f\"Sentence: '{sentence}'\")\n",
        "    print(f\"Predicted Emotion: {predicted_emotion}\\n\")"
      ]
    },
    {
      "cell_type": "code",
      "source": [
        "\n",
        "# Example sentences for prediction\n",
        "sentences = [\n",
        "    \"I am a broken-hearted\",\n",
        "    \"I am emotionaly damaged right now\",\n",
        "    \"Do what makes feel you better\",\n",
        "    \"I feel nervous\",\n",
        "    \"I am a student\",\n",
        "    \"You're stupid and it makes me anger\",\n",
        "    \"Go to hell\",\n",
        "    \"You are the worst,I do not want to see you\",\n",
        "    \"I am angry right now\",\n",
        "    \"You are my sunshine\",\n",
        "    \"Such a wonderful performance\",\n",
        "    \"I am lonely\"\n",
        "]\n",
        "\n",
        "# Perform prediction for each sentence\n",
        "for sentence in sentences:\n",
        "    predicted_emotion = predict_emotion_with_probabilities(sentence,loaded_model,tokenizer)\n",
        "    print(f\"Sentence: '{sentence}'\")\n",
        "    print(f\"Predicted Emotion: {predicted_emotion}\\n\")"
      ],
      "metadata": {
        "colab": {
          "base_uri": "https://localhost:8080/"
        },
        "id": "7NbLBfjVeFtv",
        "outputId": "468e16ee-4df7-402e-c44c-b56f3cd08505"
      },
      "execution_count": null,
      "outputs": [
        {
          "output_type": "stream",
          "name": "stdout",
          "text": [
            "Sentence: 'I am a broken-hearted'\n",
            "Predicted Emotion: ([0.22256985306739807, 0.2726081311702728, 0.30142638087272644, 0.20339569449424744], 'angry')\n",
            "\n",
            "Sentence: 'I am emotionaly damaged right now'\n",
            "Predicted Emotion: ([0.22510485351085663, 0.2804677188396454, 0.28153783082962036, 0.2128896266222], 'angry')\n",
            "\n",
            "Sentence: 'Do what makes feel you better'\n",
            "Predicted Emotion: ([0.3086329996585846, 0.20802205801010132, 0.17631801962852478, 0.3070269823074341], 'joy')\n",
            "\n",
            "Sentence: 'I feel nervous'\n",
            "Predicted Emotion: ([0.21537865698337555, 0.3466716706752777, 0.24246057868003845, 0.1954890787601471], 'sad')\n",
            "\n",
            "Sentence: 'I am a student'\n",
            "Predicted Emotion: ([0.29096055030822754, 0.22324411571025848, 0.26276153326034546, 0.2230338305234909], 'joy')\n",
            "\n",
            "Sentence: 'You're stupid and it makes me anger'\n",
            "Predicted Emotion: ([0.21656301617622375, 0.2647278904914856, 0.34241899847984314, 0.17629007995128632], 'angry')\n",
            "\n",
            "Sentence: 'Go to hell'\n",
            "Predicted Emotion: ([0.23550142347812653, 0.2363341897726059, 0.25273290276527405, 0.27543145418167114], 'neutral')\n",
            "\n",
            "Sentence: 'You are the worst,I do not want to see you'\n",
            "Predicted Emotion: ([0.23315386474132538, 0.2811245918273926, 0.26306697726249695, 0.22265461087226868], 'sad')\n",
            "\n",
            "Sentence: 'I am angry right now'\n",
            "Predicted Emotion: ([0.2269899696111679, 0.2489987015724182, 0.33669793605804443, 0.18731342256069183], 'angry')\n",
            "\n",
            "Sentence: 'You are my sunshine'\n",
            "Predicted Emotion: ([0.45811620354652405, 0.198644757270813, 0.15489526093006134, 0.1883438229560852], 'joy')\n",
            "\n",
            "Sentence: 'Such a wonderful performance'\n",
            "Predicted Emotion: ([0.3935435712337494, 0.1811971664428711, 0.1942969560623169, 0.23096232116222382], 'joy')\n",
            "\n",
            "Sentence: 'I am lonely'\n",
            "Predicted Emotion: ([0.26524460315704346, 0.3102840185165405, 0.2299225777387619, 0.19454874098300934], 'sad')\n",
            "\n"
          ]
        }
      ]
    }
  ],
  "metadata": {
    "accelerator": "GPU",
    "colab": {
      "provenance": [],
      "include_colab_link": true
    },
    "kernelspec": {
      "display_name": "Python 3",
      "name": "python3"
    },
    "language_info": {
      "codemirror_mode": {
        "name": "ipython",
        "version": 3
      },
      "file_extension": ".py",
      "mimetype": "text/x-python",
      "name": "python",
      "nbconvert_exporter": "python",
      "pygments_lexer": "ipython3",
      "version": "3.10.2"
    }
  },
  "nbformat": 4,
  "nbformat_minor": 0
}