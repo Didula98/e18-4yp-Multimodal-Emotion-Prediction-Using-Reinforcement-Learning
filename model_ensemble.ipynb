{
  "cells": [
    {
      "cell_type": "markdown",
      "metadata": {
        "id": "view-in-github",
        "colab_type": "text"
      },
      "source": [
        "<a href=\"https://colab.research.google.com/github/PiyumaliSandunika/e18-4yp-Multimodal-Emotion-Prediction-Using-Reinforcement-Learning/blob/main/model_ensemble.ipynb\" target=\"_parent\"><img src=\"https://colab.research.google.com/assets/colab-badge.svg\" alt=\"Open In Colab\"/></a>"
      ]
    },
    {
      "cell_type": "code",
      "execution_count": 2,
      "metadata": {
        "id": "Z67MZBeK76Nt"
      },
      "outputs": [],
      "source": [
        "# label_map = {\"happiness\": 0, \"sadness\": 1, \"anger\": 2, \"neutral\": 3}\n"
      ]
    },
    {
      "cell_type": "markdown",
      "source": [
        "** Model Loading**"
      ],
      "metadata": {
        "id": "eo9D1oTAec2b"
      }
    },
    {
      "cell_type": "code",
      "source": [
        "from google.colab import drive\n",
        "drive.mount('/content/drive')"
      ],
      "metadata": {
        "colab": {
          "base_uri": "https://localhost:8080/"
        },
        "id": "HPFIxtrSlad5",
        "outputId": "afabf8a0-29d2-4b33-8174-6bf0b4269d5f"
      },
      "execution_count": 3,
      "outputs": [
        {
          "output_type": "stream",
          "name": "stdout",
          "text": [
            "Mounted at /content/drive\n"
          ]
        }
      ]
    },
    {
      "cell_type": "code",
      "execution_count": null,
      "metadata": {
        "id": "SZe1gEDC_2LT"
      },
      "outputs": [],
      "source": [
        "from transformers import DistilBertForSequenceClassification, DistilBertTokenizer\n",
        "import torch\n",
        "import pickle\n",
        "# Load the saved model\n",
        "model_path = \"/content/drive/MyDrive/FYP_Text/emotion_text_classification_model.pkl\"\n",
        "# loaded_model = DistilBertForSequenceClassification.from_pretrained(model_path)\n",
        "with open(model_path,'rb') as f:\n",
        "  loaded_model = pickle.load(f)\n",
        "\n",
        "tokenizer = DistilBertTokenizer.from_pretrained('distilbert-base-uncased')\n"
      ]
    },
    {
      "cell_type": "code",
      "source": [
        "model_path2 = \"emotion_classification_model_lite\"\n",
        "loaded_model2 = DistilBertForSequenceClassification.from_pretrained(model_path)\n",
        "# tokenizer = DistilBertTokenizer.from_pretrained('distilbert-base-uncased')\n"
      ],
      "metadata": {
        "id": "8KVWXF45exdP"
      },
      "execution_count": null,
      "outputs": []
    },
    {
      "cell_type": "code",
      "source": [
        "def predict_emotion_with_probabilities(sentence, model, tokenizer):\n",
        "    # Tokenize the input sentence\n",
        "    inputs = tokenizer(sentence, return_tensors=\"pt\")\n",
        "\n",
        "    # Perform inference\n",
        "    outputs = model(**inputs)\n",
        "    logits = outputs.logits\n",
        "\n",
        "    # Apply softmax to get probabilities\n",
        "    probabilities = torch.nn.functional.softmax(logits, dim=1)\n",
        "\n",
        "    # Convert probabilities tensor to list\n",
        "    probabilities_list = probabilities.squeeze().tolist()\n",
        "\n",
        "    # Map predicted label to emotion\n",
        "    emotion_labels = [\"happiness\", \"sadness\", \"anger\", \"neutral\"]\n",
        "    predicted_emotion = emotion_labels[torch.argmax(logits, dim=1).item()]\n",
        "\n",
        "    return probabilities_list, predicted_emotion\n"
      ],
      "metadata": {
        "id": "eKPDJ9OMiDsc"
      },
      "execution_count": null,
      "outputs": []
    },
    {
      "cell_type": "code",
      "source": [
        "def ensemble_predictions(sentence, model_weights=None, class_weights=None):\n",
        "    # Get predictions from the first model\n",
        "    probabilities1, _ = predict_emotion_with_probabilities(sentence, loaded_model, tokenizer)\n",
        "\n",
        "    # Get predictions from the second model\n",
        "    probabilities2, _ = predict_emotion_with_probabilities(sentence, loaded_model2, tokenizer)\n",
        "\n",
        "    # Apply model-wise weights if provided\n",
        "    if model_weights:\n",
        "        probabilities1 = [p1 * w for p1, w in zip(probabilities1, model_weights[0])]\n",
        "        probabilities2 = [p2 * w for p2, w in zip(probabilities2, model_weights[1])]\n",
        "\n",
        "    # Apply class-wise weights if provided\n",
        "    if class_weights:\n",
        "        probabilities1 = [p1 * w for p1, w in zip(probabilities1, class_weights)]\n",
        "        probabilities2 = [p2 * w for p2, w in zip(probabilities2, class_weights)]\n",
        "\n",
        "    # Calculate ensemble probabilities by averaging\n",
        "    ensemble_probabilities = [(p1 + p2) / 2 for p1, p2 in zip(probabilities1, probabilities2)]\n",
        "\n",
        "    # Map ensemble probabilities to emotion labels\n",
        "    emotion_labels = [\"happiness\", \"sadness\", \"anger\", \"neutral\"]\n",
        "    predicted_emotion = emotion_labels[np.argmax(ensemble_probabilities)]\n",
        "\n",
        "    return probabilities1, probabilities2, ensemble_probabilities, predicted_emotion\n",
        "\n",
        "# Example usage with model and class weights\n",
        "sentence = \"This is a test sentence.\"\n",
        "model_weights = [[1.0, 1.0, 1.0, 1.0], [0.8, 0.8, 0.9, 1.2]]  # Example weights for each model\n",
        "class_weights = [1.0, 1.0, 0.8, 1.2]  # Example weights for each class\n",
        "probabilities1, probabilities2, ensemble_probabilities, predicted_emotion = ensemble_predictions(sentence, model_weights, class_weights)\n",
        "print(\"Probabilities (Model 1):\", probabilities1)\n",
        "print(\"Probabilities (Model 2):\", probabilities2)\n",
        "print(\"Ensemble Probabilities:\", ensemble_probabilities)\n",
        "print(\"Ensemble Predicted Emotion:\", predicted_emotion)\n"
      ],
      "metadata": {
        "colab": {
          "base_uri": "https://localhost:8080/"
        },
        "id": "V4ey-i76Rrn6",
        "outputId": "f7552897-0c74-47ef-8813-6e17690ea8d3"
      },
      "execution_count": null,
      "outputs": [
        {
          "output_type": "stream",
          "name": "stdout",
          "text": [
            "Probabilities (Model 1): [0.0003059331502299756, 0.0008683084743097425, 0.0019081057980656624, 1.1957287073135376]\n",
            "Probabilities (Model 2): [0.0002447465201839805, 0.000694646779447794, 0.0017172952182590963, 1.434874448776245]\n",
            "Ensemble Probabilities: [0.000275339835206978, 0.0007814776268787682, 0.0018127005081623794, 1.3153015780448913]\n",
            "Ensemble Predicted Emotion: neutral\n"
          ]
        }
      ]
    }
  ],
  "metadata": {
    "accelerator": "GPU",
    "colab": {
      "provenance": [],
      "include_colab_link": true
    },
    "kernelspec": {
      "display_name": "Python 3",
      "name": "python3"
    },
    "language_info": {
      "codemirror_mode": {
        "name": "ipython",
        "version": 3
      },
      "file_extension": ".py",
      "mimetype": "text/x-python",
      "name": "python",
      "nbconvert_exporter": "python",
      "pygments_lexer": "ipython3",
      "version": "3.10.2"
    }
  },
  "nbformat": 4,
  "nbformat_minor": 0
}