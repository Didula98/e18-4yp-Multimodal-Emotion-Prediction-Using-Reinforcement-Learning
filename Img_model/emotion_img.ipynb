{
 "cells": [
  {
   "cell_type": "code",
   "execution_count": null,
   "id": "44cc95c4-7bd5-4b64-b877-cbc9be2b891f",
   "metadata": {},
   "outputs": [],
   "source": [
    "import tensorflow as tf\n",
    "import cv2\n",
    "import os\n",
    "import matplotlib.pyplot as plt\n",
    "import numpy as np"
   ]
  },
  {
   "cell_type": "code",
   "execution_count": null,
   "id": "8f0cf872-0a51-48a5-a76a-a97ea8ea776c",
   "metadata": {},
   "outputs": [],
   "source": [
    "img_arr = cv2.imread(\"FER2013/test/angry/PrivateTest_10131363.jpg\")"
   ]
  },
  {
   "cell_type": "code",
   "execution_count": null,
   "id": "51580069-024a-4252-8876-579711007929",
   "metadata": {},
   "outputs": [],
   "source": [
    "img_arr.shape"
   ]
  },
  {
   "cell_type": "code",
   "execution_count": null,
   "id": "b5619ac0-f2fa-46e8-ac1e-4889b002154a",
   "metadata": {},
   "outputs": [],
   "source": [
    "plt.imshow(img_arr)"
   ]
  },
  {
   "cell_type": "code",
   "execution_count": null,
   "id": "0370e9af-2a2f-42f6-9796-01a7f495c81b",
   "metadata": {},
   "outputs": [],
   "source": [
    "data_dir = \"FER2013/train/\""
   ]
  },
  {
   "cell_type": "code",
   "execution_count": null,
   "id": "2ed532f0-7004-4769-ab04-79b03581261f",
   "metadata": {},
   "outputs": [],
   "source": [
    "classes = ['angry', 'happy','neutral','sad']"
   ]
  },
  {
   "cell_type": "code",
   "execution_count": null,
   "id": "eb1a675c-70ef-41da-a365-836fe8dc8df9",
   "metadata": {},
   "outputs": [],
   "source": [
    "training_data = []\n",
    "for category in classes:\n",
    "    path = os.path.join(data_dir, category)\n",
    "    class_num = classes.index(category)\n",
    "    for img in os.listdir(path):\n",
    "        try:\n",
    "            img_arr = cv2.imread(os.path.join(path, img))\n",
    "            new_arr = cv2.resize(img_arr, (224, 224))\n",
    "            training_data.append([new_arr, class_num])\n",
    "        except Exception as e:\n",
    "            pass"
   ]
  },
  {
   "cell_type": "code",
   "execution_count": null,
   "id": "bd6bb3a9-4dd2-476c-9c05-8f68b15ba128",
   "metadata": {},
   "outputs": [],
   "source": [
    "print(len(training_data))"
   ]
  },
  {
   "cell_type": "code",
   "execution_count": null,
   "id": "391cb365-bb45-45b0-bbc2-88db66d36305",
   "metadata": {},
   "outputs": [],
   "source": [
    "import random\n",
    "random.shuffle(training_data)"
   ]
  },
  {
   "cell_type": "code",
   "execution_count": null,
   "id": "23f2802a-da4c-4423-bf8a-7417bedc86d5",
   "metadata": {},
   "outputs": [],
   "source": [
    "X = []\n",
    "y = []\n",
    "\n",
    "for features,label in training_data:\n",
    "    X.append(features)\n",
    "    y.append(label)\n",
    "    \n",
    "X = np.array(X).reshape(-1, 224, 224, 3)"
   ]
  },
  {
   "cell_type": "code",
   "execution_count": null,
   "id": "9f18ed75-cfe1-4273-90f6-9fb591ce6822",
   "metadata": {},
   "outputs": [],
   "source": [
    "X.shape"
   ]
  },
  {
   "cell_type": "code",
   "execution_count": null,
   "id": "33a3dae7-3254-4781-a84e-7908ea74c218",
   "metadata": {},
   "outputs": [],
   "source": [
    "X = X/225.0"
   ]
  },
  {
   "cell_type": "code",
   "execution_count": null,
   "id": "0ee96478-9aba-4769-b628-00504e77dff9",
   "metadata": {},
   "outputs": [],
   "source": [
    "Y = np.array(y)\n",
    "Y.shape"
   ]
  },
  {
   "cell_type": "code",
   "execution_count": null,
   "id": "e3ec4301-f900-45c1-bda5-ccf938d1fa27",
   "metadata": {},
   "outputs": [],
   "source": [
    "model = tf.keras.applications.MobileNetV2()"
   ]
  },
  {
   "cell_type": "code",
   "execution_count": null,
   "id": "978702a3-c9c0-498b-ba62-94dbb435bc68",
   "metadata": {},
   "outputs": [],
   "source": [
    "from tensorflow.keras import layers\n",
    "from tensorflow import keras\n",
    "base_input = model.layers[0].input\n",
    "base_output = model.layers[-2].output"
   ]
  },
  {
   "cell_type": "code",
   "execution_count": null,
   "id": "60ab4ee0-1770-4c23-9e5e-e4c4a1618376",
   "metadata": {},
   "outputs": [],
   "source": [
    "final_output = layers.Dense(128)(base_output)\n",
    "final_output = layers.Activation('relu')(final_output)\n",
    "final_output = layers.Dense(64)(final_output)\n",
    "final_output = layers.Activation('relu')(final_output)\n",
    "final_output = layers.Dense(4, activation='softmax')(final_output)"
   ]
  },
  {
   "cell_type": "code",
   "execution_count": null,
   "id": "78650b2d-82f2-424a-8423-46c1b608af7a",
   "metadata": {},
   "outputs": [],
   "source": [
    "new_model = keras.Model(inputs=base_input, outputs=final_output)"
   ]
  },
  {
   "cell_type": "code",
   "execution_count": null,
   "id": "1fc40240-990e-44da-9f53-6bce0d586b31",
   "metadata": {},
   "outputs": [],
   "source": [
    "new_model.compile(loss=\"sparse_categorical_crossentropy\", optimizer=\"adam\", metrics=[\"accuracy\"])"
   ]
  },
  {
   "cell_type": "code",
   "execution_count": null,
   "id": "bb6a200f-2416-48fc-896e-298671b390dd",
   "metadata": {},
   "outputs": [],
   "source": [
    "new_model.fit(X,Y, epochs=30)"
   ]
  },
  {
   "cell_type": "code",
   "execution_count": null,
   "id": "c0849b98-df52-46a7-a686-8dd1a0fe0180",
   "metadata": {},
   "outputs": [],
   "source": [
    "# Save the model\n",
    "new_model.save(\"IMGmodel.h5\")"
   ]
  },
  {
   "cell_type": "code",
   "execution_count": null,
   "id": "97bc199b-76bc-47d6-982a-84d99b513b7f",
   "metadata": {},
   "outputs": [],
   "source": []
  }
 ],
 "metadata": {
  "kernelspec": {
   "display_name": "Python 3 (ipykernel)",
   "language": "python",
   "name": "python3"
  },
  "language_info": {
   "codemirror_mode": {
    "name": "ipython",
    "version": 3
   },
   "file_extension": ".py",
   "mimetype": "text/x-python",
   "name": "python",
   "nbconvert_exporter": "python",
   "pygments_lexer": "ipython3",
   "version": "3.11.5"
  }
 },
 "nbformat": 4,
 "nbformat_minor": 5
}
